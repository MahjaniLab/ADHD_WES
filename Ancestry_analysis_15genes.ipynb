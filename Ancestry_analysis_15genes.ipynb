{
 "cells": [
  {
   "cell_type": "code",
   "execution_count": null,
   "metadata": {},
   "outputs": [],
   "source": [
    "## Study: Rare Variant Analyses in Ancestrally Diverse Cohorts Reveal Novel ADHD Risk Genes\n",
    "## Analysis: comparison of rare variant distribution within 15 ADHD risk genes in different ancestries\n",
    "## Author: Seulgi Jung"
   ]
  },
  {
   "cell_type": "code",
   "execution_count": null,
   "metadata": {},
   "outputs": [],
   "source": [
    "import hail as hl\n",
    "import os"
   ]
  },
  {
   "cell_type": "code",
   "execution_count": null,
   "metadata": {},
   "outputs": [],
   "source": [
    "## read matrix table of the joint-genotyped data of All of Us version 7\n",
    "## variants in this matrix table were already splitted and QCed following to the AllofUs QC document below. \n",
    "## QC document of AllofUs: https://support.researchallofus.org/hc/en-us/articles/4617899955092-All-of-Us-Beta-Release-Genomic-Quality-Report-\n",
    "mt = hl.read_matrix_table('gs://fc-aou-datasets-controlled/v7/wgs/short_read/snpindel/exome_v7.1/splitMT/hail.mt')"
   ]
  },
  {
   "cell_type": "code",
   "execution_count": null,
   "metadata": {},
   "outputs": [],
   "source": [
    "## Location of genes (hg38)\n",
    "## KDMB5: chr1:202,724,495-202,808,487\n",
    "## CTNND2: chr5:10,971,836-11,904,446\n",
    "## ANTXR1: chr2:69,013,144-69,249,327\n",
    "## CHD6: chr20:41,402,083-41,618,384\n",
    "## SNX17: chr2:27,370,496-27,377,535\n",
    "## RAI1: chr17:17,681,458-17,811,453\n",
    "## MMP16: chr8:88,032,011-88,328,025\n",
    "## AGFG1: chr2:227,472,152-227,561,217\n",
    "## CHST15: chr10:124,007,668-124,093,598\n",
    "## ZMYND11: chr10:130,088-254,637\n",
    "## TNFAIP3: chr6:137,866,349-137,883,314\n",
    "## EP400: chr12:131,949,942-132,080,460\n",
    "## ST8SIA2: chr15:92,393,881-92,468,728\n",
    "## IPO5: chr13:97,953,658-98,024,296\n",
    "## PIK3R2: chr19:18,153,163-18,170,532"
   ]
  },
  {
   "cell_type": "code",
   "execution_count": null,
   "metadata": {},
   "outputs": [],
   "source": [
    "intervals = [hl.parse_locus_interval(x, reference_genome='GRCh38') for x in [\n",
    "    'chr1:202724495-202808487', 'chr5:10971836-11904446', 'chr2:69013144-69249327', \n",
    "    'chr20:41402083-41618384', 'chr2:27370496-27377535', 'chr17:17681458-17811453', \n",
    "    'chr8:88032011-88328025', 'chr2:227472152-227561217', 'chr10:124007668-124093598', \n",
    "    'chr10:130088-254637', 'chr6:137866349-137883314', 'chr12:131949942-132080460', \n",
    "    'chr15:92393881-92468728', 'chr13:97953658-98024296', 'chr19:18153163-18170532'\n",
    "]]"
   ]
  },
  {
   "cell_type": "code",
   "execution_count": null,
   "metadata": {},
   "outputs": [],
   "source": [
    "mt_gene = hl.filter_intervals(mt, intervals, keep=True)"
   ]
  },
  {
   "cell_type": "code",
   "execution_count": null,
   "metadata": {},
   "outputs": [],
   "source": [
    "mt_gene.write('ADHD_15genes.mt', overwrite=True)"
   ]
  },
  {
   "cell_type": "code",
   "execution_count": null,
   "metadata": {},
   "outputs": [],
   "source": [
    "mt = hl.read_matrix_table('ADHD_15genes.mt')"
   ]
  },
  {
   "cell_type": "code",
   "execution_count": null,
   "metadata": {},
   "outputs": [],
   "source": [
    "flag = hl.import_table(f'gs://fc-aou-datasets-controlled/v7/wgs/short_read/snpindel/aux/qc/flagged_samples.tsv')"
   ]
  },
  {
   "cell_type": "code",
   "execution_count": null,
   "metadata": {},
   "outputs": [],
   "source": [
    "flag = flag.key_by('s')\n",
    "mt_pheno = mt.annotate_cols(**flag[mt.s])\n",
    "sampleQC_fail = hl.len(mt_pheno.qc_metrics_filters) > 0\n",
    "mt_sampleQC_fail = mt_pheno.filter_cols(sampleQC_fail)"
   ]
  },
  {
   "cell_type": "code",
   "execution_count": null,
   "metadata": {},
   "outputs": [],
   "source": [
    "set_to_remove = hl.literal(mt_sampleQC_fail.s.take(549))\n",
    "mt_sampleQC = mt_pheno.filter_cols(~set_to_remove.contains(mt_pheno['s']))"
   ]
  },
  {
   "cell_type": "code",
   "execution_count": null,
   "metadata": {},
   "outputs": [],
   "source": [
    "lcr = hl.import_bed('LCR-hs38.bed', reference_genome = 'GRCh38')\n",
    "d_lcr = mt_sampleQC.filter_rows(hl.is_defined(lcr[mt_sampleQC.locus]), keep = False)"
   ]
  },
  {
   "cell_type": "code",
   "execution_count": null,
   "metadata": {},
   "outputs": [],
   "source": [
    "d_lcr.write('ADHD_15genes_lcr.mt')"
   ]
  },
  {
   "cell_type": "code",
   "execution_count": null,
   "metadata": {},
   "outputs": [],
   "source": [
    "mt = hl.read_matrix_table('ADHD_15genes_lcr.mt')"
   ]
  },
  {
   "cell_type": "code",
   "execution_count": null,
   "metadata": {},
   "outputs": [],
   "source": [
    "d = mt.filter_entries((mt.FT == \"PASS\") | (hl.is_missing(mt.FT)))"
   ]
  },
  {
   "cell_type": "code",
   "execution_count": null,
   "metadata": {},
   "outputs": [],
   "source": [
    "## Manual QC thresholds\n",
    "\n",
    "ab = d.AD[1] / hl.sum(d.AD)\n",
    "pab = hl.binom_test(d.AD[1], hl.sum(d.AD), 0.5, \"two-sided\")\n",
    "\n",
    "\n",
    "filter_condition_ab = (((d.GT.is_hom_ref()) & (ab <= 0.1) & (d.GQ >= 25)) | \n",
    "                       ((d.GT.is_hom_ref()) & hl.is_missing(d.AD) & (d.GQ >= 25)) |\n",
    "                       ((d.GT.is_het()) & (ab >= 0.3) & (d.GQ >= 25) & (pab >= 1E-09)) |\n",
    "                       ((d.GT.is_hom_var()) & (ab >= 0.9) & (d.GQ >= 25)))\n",
    "d_filter = d.filter_entries(filter_condition_ab)\n",
    "d_filter.write('ADHD_15genes_lcr_filter.mt')"
   ]
  },
  {
   "cell_type": "code",
   "execution_count": null,
   "metadata": {},
   "outputs": [],
   "source": [
    "mt = hl.read_matrix_table('ADHD_15genes_lcr_filter.mt')"
   ]
  },
  {
   "cell_type": "code",
   "execution_count": null,
   "metadata": {},
   "outputs": [],
   "source": [
    "mt_rows = mt.rows()"
   ]
  },
  {
   "cell_type": "code",
   "execution_count": null,
   "metadata": {},
   "outputs": [],
   "source": [
    "mt_rows.export('ADHD_15genes_lcr_filter_rows.txt')"
   ]
  },
  {
   "cell_type": "code",
   "execution_count": null,
   "metadata": {},
   "outputs": [],
   "source": [
    "import os\n",
    "\n",
    "name_of_file_in_bucket = 'ADHD_15genes_lcr_filter_rows.txt'\n",
    "my_bucket = os.getenv('WORKSPACE_BUCKET')\n",
    "os.system(f\"gsutil -m cp '{my_bucket}/data/{name_of_file_in_bucket}' .\")"
   ]
  },
  {
   "cell_type": "code",
   "execution_count": null,
   "metadata": {},
   "outputs": [],
   "source": [
    "!cat ADHD_15genes_lcr_filter_rows.txt | awk '{print $1\"\\t\"$2}' > ADHD_15genes_lcr_filter_rows_allele.txt\n",
    "!gzip ADHD_15genes_lcr_filter_rows_allele.txt"
   ]
  },
  {
   "cell_type": "code",
   "execution_count": null,
   "metadata": {},
   "outputs": [],
   "source": [
    "import os\n",
    "my_bucket = os.getenv('WORKSPACE_BUCKET')"
   ]
  },
  {
   "cell_type": "code",
   "execution_count": null,
   "metadata": {},
   "outputs": [],
   "source": [
    "os.system(f\"gsutil -m cp ADHD_15genes_lcr_filter_rows_locus_allele_vep_annot_mpc_ptv.txt '{my_bucket}/data/'\")\n",
    "os.system(f\"gsutil -m cp ADHD_15genes_lcr_filter_rows_locus_allele_vep_annot_mpc_misB.txt '{my_bucket}/data/'\")\n",
    "os.system(f\"gsutil -m cp ADHD_15genes_lcr_filter_rows_locus_allele_vep_annot_mpc_misA.txt '{my_bucket}/data/'\")\n",
    "os.system(f\"gsutil -m cp ADHD_15genes_lcr_filter_rows_locus_allele_vep_annot_mpc_mis.txt '{my_bucket}/data/'\")\n",
    "os.system(f\"gsutil -m cp ADHD_15genes_lcr_filter_rows_locus_allele_vep_annot_mpc_SYN.txt '{my_bucket}/data/'\")"
   ]
  },
  {
   "cell_type": "code",
   "execution_count": null,
   "metadata": {},
   "outputs": [],
   "source": []
  },
  {
   "cell_type": "code",
   "execution_count": null,
   "metadata": {},
   "outputs": [],
   "source": [
    "!cat ADHD_15genes_lcr_filter_rows_locus_allele_vep_annot_mpc_ptv.txt | grep \"LoF=HC\" | grep \"LoF_flags=SINGLE_EXON;\" > ADHD_15genes_lcr_filter_rows_locus_allele_vep_annot_mpc_ptv_lof1.txt\n",
    "!cat ADHD_15genes_lcr_filter_rows_locus_allele_vep_annot_mpc_ptv.txt | grep \"LoF=HC\" | sed '/LoF_flags/d' > ADHD_15genes_lcr_filter_rows_locus_allele_vep_annot_mpc_ptv_lof2.txt\n",
    "!cat ADHD_15genes_lcr_filter_rows_locus_allele_vep_annot_mpc_ptv_lof1.txt ADHD_15genes_lcr_filter_rows_locus_allele_vep_annot_mpc_ptv_lof2.txt > ADHD_15genes_lcr_filter_rows_locus_allele_vep_annot_mpc_ptv_lof.txt"
   ]
  },
  {
   "cell_type": "code",
   "execution_count": null,
   "metadata": {},
   "outputs": [],
   "source": [
    "!cat ADHD_15genes_lcr_filter_rows_locus_allele_vep_annot_mpc_ptv_lof.txt | grep \"CANONICAL=YES\" | grep \"BIOTYPE=protein_coding\" | awk '{print $1\"\\t\"$2\"\\t\"$4\"\\t\"$5\"\\t\"$6\"\\t\"$9\"\\t\"$12}'> ADHD_15genes_lcr_filter_rows_locus_allele_vep_annot_mpc_ptv_lof_canonical.txt"
   ]
  },
  {
   "cell_type": "code",
   "execution_count": null,
   "metadata": {},
   "outputs": [],
   "source": [
    "!cat ADHD_15genes_lcr_filter_rows_locus_allele_vep_annot_mpc_misB.txt | grep \"CANONICAL=YES\" | grep \"BIOTYPE=protein_coding\" | awk '{print $1\"\\t\"$2\"\\t\"$4\"\\t\"$5\"\\t\"$6\"\\t\"$9\"\\t\"$12}'> ADHD_15genes_lcr_filter_rows_locus_allele_vep_annot_mpc_misB_canonical.txt\n",
    "!cat ADHD_15genes_lcr_filter_rows_locus_allele_vep_annot_mpc_misA.txt | grep \"CANONICAL=YES\" | grep \"BIOTYPE=protein_coding\" | awk '{print $1\"\\t\"$2\"\\t\"$4\"\\t\"$5\"\\t\"$6\"\\t\"$9\"\\t\"$12}'> ADHD_15genes_lcr_filter_rows_locus_allele_vep_annot_mpc_misA_canonical.txt\n",
    "!cat ADHD_15genes_lcr_filter_rows_locus_allele_vep_annot_mpc_mis.txt | grep \"CANONICAL=YES\" | grep \"BIOTYPE=protein_coding\" | awk '{print $1\"\\t\"$2\"\\t\"$4\"\\t\"$5\"\\t\"$6\"\\t\"$9\"\\t\"$12}'> ADHD_15genes_lcr_filter_rows_locus_allele_vep_annot_mpc_mis_canonical.txt\n",
    "!cat ADHD_15genes_lcr_filter_rows_locus_allele_vep_annot_mpc_SYN.txt | grep \"CANONICAL=YES\" | grep \"BIOTYPE=protein_coding\" | awk '{print $1\"\\t\"$2\"\\t\"$4\"\\t\"$5\"\\t\"$6\"\\t\"$9\"\\t\"$12}'> ADHD_15genes_lcr_filter_rows_locus_allele_vep_annot_mpc_SYN_canonical.txt"
   ]
  },
  {
   "cell_type": "code",
   "execution_count": null,
   "metadata": {},
   "outputs": [],
   "source": []
  },
  {
   "cell_type": "code",
   "execution_count": null,
   "metadata": {},
   "outputs": [],
   "source": [
    "## read the matrix table\n",
    "mt = hl.read_matrix_table('ADHD_15genes_lcr_filter.mt')"
   ]
  },
  {
   "cell_type": "code",
   "execution_count": null,
   "metadata": {},
   "outputs": [],
   "source": [
    "hl.export_plink(mt, 'ADHD_15genes_lcr_filter', ind_id = mt.s)"
   ]
  },
  {
   "cell_type": "code",
   "execution_count": null,
   "metadata": {},
   "outputs": [],
   "source": []
  },
  {
   "cell_type": "code",
   "execution_count": null,
   "metadata": {},
   "outputs": [],
   "source": [
    "import os\n",
    "\n",
    "name_of_file_in_bucket = 'ADHD_15genes_lcr_filter.bed'\n",
    "my_bucket = os.getenv('WORKSPACE_BUCKET')\n",
    "os.system(f\"gsutil -m cp '{my_bucket}/data/{name_of_file_in_bucket}' .\")"
   ]
  },
  {
   "cell_type": "code",
   "execution_count": null,
   "metadata": {},
   "outputs": [],
   "source": [
    "import os\n",
    "\n",
    "name_of_file_in_bucket = 'ADHD_15genes_lcr_filter.bim'\n",
    "my_bucket = os.getenv('WORKSPACE_BUCKET')\n",
    "os.system(f\"gsutil -m cp '{my_bucket}/data/{name_of_file_in_bucket}' .\")"
   ]
  },
  {
   "cell_type": "code",
   "execution_count": null,
   "metadata": {},
   "outputs": [],
   "source": [
    "import os\n",
    "\n",
    "name_of_file_in_bucket = 'ADHD_15genes_lcr_filter.fam'\n",
    "my_bucket = os.getenv('WORKSPACE_BUCKET')\n",
    "os.system(f\"gsutil -m cp '{my_bucket}/data/{name_of_file_in_bucket}' .\")"
   ]
  },
  {
   "cell_type": "code",
   "execution_count": null,
   "metadata": {},
   "outputs": [],
   "source": [
    "!head ADHD_15genes_lcr_filter.fam"
   ]
  },
  {
   "cell_type": "code",
   "execution_count": null,
   "metadata": {},
   "outputs": [],
   "source": [
    "import os\n",
    "name_of_file_in_bucket = 'ancestry_preds.txt'\n",
    "my_bucket = os.getenv('WORKSPACE_BUCKET')\n",
    "os.system(f\"gsutil -m cp '{my_bucket}/data/{name_of_file_in_bucket}' .\")"
   ]
  },
  {
   "cell_type": "code",
   "execution_count": null,
   "metadata": {},
   "outputs": [],
   "source": [
    "!cat ancestry_preds.txt | awk '$2 == \"eur\" {print $1\"\\t\"$1}' > eur.txt\n",
    "!cat ancestry_preds.txt | awk '$2 == \"afr\" {print $1\"\\t\"$1}' > afr.txt\n",
    "!cat ancestry_preds.txt | awk '$2 == \"amr\" {print $1\"\\t\"$1}' > amr.txt"
   ]
  },
  {
   "cell_type": "code",
   "execution_count": null,
   "metadata": {},
   "outputs": [],
   "source": []
  },
  {
   "cell_type": "code",
   "execution_count": null,
   "metadata": {},
   "outputs": [],
   "source": [
    "## Change kernel from R to python\n",
    "\n",
    "import os\n",
    "name_of_file_in_bucket = 'total_ADHD_7198samples.csv'\n",
    "my_bucket = os.getenv('WORKSPACE_BUCKET')\n",
    "os.system(f\"gsutil -m cp '{my_bucket}/data/{name_of_file_in_bucket}' .\")"
   ]
  },
  {
   "cell_type": "code",
   "execution_count": null,
   "metadata": {},
   "outputs": [],
   "source": [
    "!cat total_ADHD_7198samples.csv | sed 's/\\,/\\t/g' | awk '{print $1\"\\t\"$1}' | sed '1,1'd > total_ADHD_7198samples.txt"
   ]
  },
  {
   "cell_type": "code",
   "execution_count": null,
   "metadata": {},
   "outputs": [],
   "source": [
    "!cp ADHD_15genes_lcr_filter.fam ADHD_15genes_lcr_filter.fam_original"
   ]
  },
  {
   "cell_type": "code",
   "execution_count": null,
   "metadata": {},
   "outputs": [],
   "source": [
    "!cat ADHD_15genes_lcr_filter.fam_original | awk '{print $2\"\\t\"$2\"\\t\"$3\"\\t\"$4\"\\t\"$5\"\\t\"\"1\"}' > ADHD_15genes_lcr_filter.fam"
   ]
  },
  {
   "cell_type": "code",
   "execution_count": null,
   "metadata": {},
   "outputs": [],
   "source": []
  },
  {
   "cell_type": "code",
   "execution_count": null,
   "metadata": {},
   "outputs": [],
   "source": [
    "!plink --noweb --allow-no-sex --bfile ADHD_15genes_lcr_filter --remove total_ADHD_7198samples.txt --make-bed --out ADHD_15genes_lcr_filter_without_ADHD"
   ]
  },
  {
   "cell_type": "code",
   "execution_count": null,
   "metadata": {},
   "outputs": [],
   "source": [
    "!plink --noweb --allow-no-sex --bfile ADHD_15genes_lcr_filter_without_ADHD --keep eur.txt --make-bed --out ADHD_15genes_lcr_filter_without_ADHD_eur\n",
    "!plink --noweb --allow-no-sex --bfile ADHD_15genes_lcr_filter_without_ADHD --keep amr.txt --make-bed --out ADHD_15genes_lcr_filter_without_ADHD_amr\n",
    "!plink --noweb --allow-no-sex --bfile ADHD_15genes_lcr_filter_without_ADHD --keep afr.txt --make-bed --out ADHD_15genes_lcr_filter_without_ADHD_afr"
   ]
  },
  {
   "cell_type": "code",
   "execution_count": null,
   "metadata": {},
   "outputs": [],
   "source": [
    "!plink --noweb --allow-no-sex --bfile ADHD_15genes_lcr_filter_without_ADHD_eur --trend --out ADHD_15genes_lcr_filter_without_ADHD_eur_trend\n",
    "!plink --noweb --allow-no-sex --bfile ADHD_15genes_lcr_filter_without_ADHD_amr --trend --out ADHD_15genes_lcr_filter_without_ADHD_amr_trend\n",
    "!plink --noweb --allow-no-sex --bfile ADHD_15genes_lcr_filter_without_ADHD_afr --trend --out ADHD_15genes_lcr_filter_without_ADHD_afr_trend"
   ]
  },
  {
   "cell_type": "code",
   "execution_count": null,
   "metadata": {},
   "outputs": [],
   "source": [
    "!head ADHD_15genes_lcr_filter_without_ADHD_eur_trend.model"
   ]
  },
  {
   "cell_type": "code",
   "execution_count": null,
   "metadata": {},
   "outputs": [],
   "source": [
    "!cat ADHD_15genes_lcr_filter_without_ADHD_eur_trend.model | awk '{print $1\"\\t\"$2\"\\t\"$3\"\\t\"$4\"\\t\"$7}' | sed 's/\\//\\t/g' | sed 's/\\:/\\t/g' | awk '{print $2\"\\t\"$3\"\\t\"$6\"\\t\"$7\"\\t\"$8\"\\t\"$9}' | sed '1,1d' > ADHD_15genes_lcr_filter_without_ADHD_eur_trend_count.txt\n",
    "!cat ADHD_15genes_lcr_filter_without_ADHD_amr_trend.model | awk '{print $1\"\\t\"$2\"\\t\"$3\"\\t\"$4\"\\t\"$7}' | sed 's/\\//\\t/g' | sed 's/\\:/\\t/g' | awk '{print $2\"\\t\"$3\"\\t\"$6\"\\t\"$7\"\\t\"$8\"\\t\"$9}' | sed '1,1d' > ADHD_15genes_lcr_filter_without_ADHD_amr_trend_count.txt\n",
    "!cat ADHD_15genes_lcr_filter_without_ADHD_afr_trend.model | awk '{print $1\"\\t\"$2\"\\t\"$3\"\\t\"$4\"\\t\"$7}' | sed 's/\\//\\t/g' | sed 's/\\:/\\t/g' | awk '{print $2\"\\t\"$3\"\\t\"$6\"\\t\"$7\"\\t\"$8\"\\t\"$9}' | sed '1,1d' > ADHD_15genes_lcr_filter_without_ADHD_afr_trend_count.txt"
   ]
  },
  {
   "cell_type": "code",
   "execution_count": null,
   "metadata": {},
   "outputs": [],
   "source": []
  },
  {
   "cell_type": "code",
   "execution_count": null,
   "metadata": {},
   "outputs": [],
   "source": [
    "import pandas as pd\n",
    "import numpy as np\n",
    "\n",
    "df = pd.read_csv('ADHD_15genes_lcr_filter_without_ADHD_afr_trend_count.txt', header=None, sep=\"\\t\")\n",
    "df.columns=[\"chr\", \"pos\", \"ref\", \"alt\", \"Alt_allofus_AFR\", \"Ref_allofus_AFR\"]\n",
    "\n",
    "df.fillna(0, inplace=True)\n",
    "print(df)"
   ]
  },
  {
   "cell_type": "code",
   "execution_count": null,
   "metadata": {},
   "outputs": [],
   "source": [
    "df.to_csv('ADHD_15genes_lcr_filter_without_ADHD_afr_trend_count_input.txt', index=False, sep=\"\\t\")"
   ]
  },
  {
   "cell_type": "code",
   "execution_count": null,
   "metadata": {},
   "outputs": [],
   "source": [
    "!paste ADHD_15genes_lcr_filter_without_ADHD_eur_trend_count_input.txt \\\n",
    "ADHD_15genes_lcr_filter_without_ADHD_amr_trend_count_input.txt \\\n",
    "ADHD_15genes_lcr_filter_without_ADHD_afr_trend_count_input.txt \\\n",
    "| awk '$4 == $10' | awk '$4 == $16' | awk '$10 == $16' | awk '{print $1\"\\t\"$2\"\\t\"$3\"\\t\"$4\"\\t\"$5\"\\t\"$6\"\\t\"$11\"\\t\"$12\"\\t\"$17\"\\t\"$18}' \\\n",
    "> ADHD_15genes_lcr_filter_without_ADHD_trend_count_input_all.txt"
   ]
  },
  {
   "cell_type": "code",
   "execution_count": null,
   "metadata": {},
   "outputs": [],
   "source": [
    "## Change kernel from R to python\n",
    "import os\n",
    "name_of_file_in_bucket = 'ADHD_15genes_lcr_filter_without_ADHD_trend_count_input_all.txt'\n",
    "my_bucket = os.getenv('WORKSPACE_BUCKET')\n",
    "os.system(f\"gsutil -m cp '{name_of_file_in_bucket}' '{my_bucket}/data/{name_of_file_in_bucket}'\")"
   ]
  },
  {
   "cell_type": "code",
   "execution_count": null,
   "metadata": {},
   "outputs": [],
   "source": []
  },
  {
   "cell_type": "code",
   "execution_count": null,
   "metadata": {},
   "outputs": [],
   "source": [
    "case = hl.import_table('ADHD_15genes_lcr_filter_without_ADHD_trend_count_input_all.txt', types={\"chr\": hl.tstr, \"pos\": hl.tint32}, impute=True, delimiter='\\t')\n",
    "case = case.annotate(locus_new=hl.locus(case[\"chr\"], case[\"pos\"], reference_genome='GRCh38'))\n",
    "case = case.annotate(alleles_new = [case.ref, case.alt])\n",
    "case = case.key_by(case.locus_new, case.alleles_new)\n",
    "\n",
    "allofus = hl.import_table('trend_count_input_all.txt', types={\"chr\": hl.tstr, \"pos\": hl.tint32}, impute=True, delimiter='\\t')\n",
    "allofus = allofus.annotate(locus_new=hl.locus(allofus[\"chr\"], allofus[\"pos\"], reference_genome='GRCh38'))\n",
    "allofus = allofus.annotate(alleles_new = [allofus.ref, allofus.alt])\n",
    "allofus = allofus.key_by(allofus.locus_new, allofus.alleles_new)\n",
    "\n",
    "gnomad = hl.import_table('vep_final_coding_gnomad_freq_rare_final_input_sed_all_chr_mpc.txt', types={\"chr\": hl.tstr, \"pos\": hl.tint32}, impute=True, delimiter='\\t')\n",
    "gnomad = gnomad.annotate(locus=hl.locus(gnomad[\"chr\"], gnomad[\"pos\"], reference_genome='GRCh38'))\n",
    "gnomad = gnomad.annotate(alleles_gnomad = [gnomad.ref, gnomad.alt])\n",
    "gnomad = gnomad.key_by(gnomad.locus, gnomad.alleles_gnomad)\n"
   ]
  },
  {
   "cell_type": "code",
   "execution_count": null,
   "metadata": {},
   "outputs": [],
   "source": [
    "case_allofus = case.annotate(**allofus[case.locus_new, case.alleles_new])\n",
    "case_allofus_filter = case_allofus.filter(hl.is_defined(allofus[case_allofus.key]))"
   ]
  },
  {
   "cell_type": "code",
   "execution_count": null,
   "metadata": {},
   "outputs": [],
   "source": [
    "case_allofus_filter.show()"
   ]
  },
  {
   "cell_type": "code",
   "execution_count": null,
   "metadata": {},
   "outputs": [],
   "source": [
    "case_allofus_filter.count()"
   ]
  },
  {
   "cell_type": "code",
   "execution_count": null,
   "metadata": {},
   "outputs": [],
   "source": [
    "case_allofus_filter.export('ADHD_15genes_allofus.txt')"
   ]
  },
  {
   "cell_type": "code",
   "execution_count": null,
   "metadata": {},
   "outputs": [],
   "source": [
    "case_allofus_filter = hl.import_table('ADHD_15genes_allofus.txt', types={\"chr\": hl.tstr, \"pos\": hl.tint32}, impute=True, delimiter='\\t')\n",
    "case_allofus_filter = case_allofus_filter.annotate(locus=hl.locus(case_allofus_filter[\"chr\"], case_allofus_filter[\"pos\"], reference_genome='GRCh38'))\n",
    "case_allofus_filter = case_allofus_filter.annotate(alleles = [case_allofus_filter.ref, case_allofus_filter.alt])\n",
    "case_allofus_filter = case_allofus_filter.key_by(case_allofus_filter.locus, case_allofus_filter.alleles)"
   ]
  },
  {
   "cell_type": "code",
   "execution_count": null,
   "metadata": {},
   "outputs": [],
   "source": [
    "case_allofus_filter.show()"
   ]
  },
  {
   "cell_type": "code",
   "execution_count": null,
   "metadata": {},
   "outputs": [],
   "source": [
    "case_allofus_filter = case_allofus_filter.key_by(case_allofus_filter.locus)"
   ]
  },
  {
   "cell_type": "code",
   "execution_count": null,
   "metadata": {},
   "outputs": [],
   "source": [
    "gnomad = gnomad.key_by(gnomad.locus)"
   ]
  },
  {
   "cell_type": "code",
   "execution_count": null,
   "metadata": {},
   "outputs": [],
   "source": [
    "gnomad.show()"
   ]
  },
  {
   "cell_type": "code",
   "execution_count": null,
   "metadata": {},
   "outputs": [],
   "source": [
    "case_allofus_gnomad = case_allofus_filter.annotate(**gnomad[case_allofus_filter.locus])\n",
    "case_allofus_gnomad_filter = case_allofus_gnomad.filter(hl.is_defined(gnomad[case_allofus_gnomad.key]))"
   ]
  },
  {
   "cell_type": "code",
   "execution_count": null,
   "metadata": {},
   "outputs": [],
   "source": [
    "case_allofus_gnomad_filter.show()"
   ]
  },
  {
   "cell_type": "code",
   "execution_count": null,
   "metadata": {},
   "outputs": [],
   "source": [
    "case_allofus_gnomad_filter.count()"
   ]
  },
  {
   "cell_type": "code",
   "execution_count": null,
   "metadata": {},
   "outputs": [],
   "source": [
    "case_allofus_gnomad_filter.export('ADHD_15genes_allofus_gnomad.txt')\n"
   ]
  },
  {
   "cell_type": "code",
   "execution_count": null,
   "metadata": {},
   "outputs": [],
   "source": [
    "## Change kernel from R to python\n",
    "import os\n",
    "name_of_file_in_bucket = 'ADHD_15genes_allofus_gnomad.txt'\n",
    "my_bucket = os.getenv('WORKSPACE_BUCKET')\n",
    "os.system(f\"gsutil -m cp '{my_bucket}/data/{name_of_file_in_bucket}' '{name_of_file_in_bucket}' \")"
   ]
  },
  {
   "cell_type": "code",
   "execution_count": null,
   "metadata": {},
   "outputs": [],
   "source": [
    "!cat ADHD_15genes_allofus_gnomad.txt | wc -l"
   ]
  },
  {
   "cell_type": "code",
   "execution_count": null,
   "metadata": {},
   "outputs": [],
   "source": [
    "!cat ADHD_15genes_allofus_gnomad.txt | awk '$20 == $40' | wc -l"
   ]
  },
  {
   "cell_type": "code",
   "execution_count": null,
   "metadata": {},
   "outputs": [],
   "source": [
    "!cat ADHD_15genes_allofus_gnomad.txt | head -2"
   ]
  },
  {
   "cell_type": "code",
   "execution_count": null,
   "metadata": {},
   "outputs": [],
   "source": []
  },
  {
   "cell_type": "code",
   "execution_count": null,
   "metadata": {},
   "outputs": [],
   "source": [
    "## R"
   ]
  },
  {
   "cell_type": "code",
   "execution_count": null,
   "metadata": {},
   "outputs": [],
   "source": [
    "library(MASS)\n",
    "library(dplyr)\n",
    "library(data.table)\n",
    "library(tidyr)\n",
    "options(stringsAsFactors = F)"
   ]
  },
  {
   "cell_type": "code",
   "execution_count": null,
   "metadata": {},
   "outputs": [],
   "source": [
    "data <- fread(\"ADHD_15genes_allofus_gnomad.txt\",header=TRUE)\n",
    "nrow(data)"
   ]
  },
  {
   "cell_type": "code",
   "execution_count": null,
   "metadata": {},
   "outputs": [],
   "source": [
    "data <- data %>%\n",
    "  unite(\"variant\", chr, pos, ref, alt, sep = \"_\", remove = FALSE)"
   ]
  },
  {
   "cell_type": "code",
   "execution_count": null,
   "metadata": {},
   "outputs": [],
   "source": [
    "data$maf_allofus_NFE <- data$Alt_allofus_NFE/(data$Alt_allofus_NFE + data$Ref_allofus_NFE)\n",
    "data$maf_allofus_AMR <- data$Alt_allofus_AMR/(data$Alt_allofus_AMR + data$Ref_allofus_AMR)\n",
    "data$maf_allofus_AFR <- data$Alt_allofus_AFR/(data$Alt_allofus_AFR + data$Ref_allofus_AFR)"
   ]
  },
  {
   "cell_type": "code",
   "execution_count": null,
   "metadata": {},
   "outputs": [],
   "source": [
    "head(data)"
   ]
  },
  {
   "cell_type": "code",
   "execution_count": null,
   "metadata": {},
   "outputs": [],
   "source": [
    "data_rare <- data[(data$AF_nfe <= 0.0001) | (data$AF_amr <= 0.0001) | (data$AF_afr <= 0.0001) | (data$maf_allofus_NFE <= 0.0001) | (data$maf_allofus_AMR <= 0.0001) | (data$maf_allofus_AFR <= 0.0001),]\n",
    "nrow(data_rare)"
   ]
  },
  {
   "cell_type": "code",
   "execution_count": null,
   "metadata": {},
   "outputs": [],
   "source": []
  },
  {
   "cell_type": "code",
   "execution_count": null,
   "metadata": {},
   "outputs": [],
   "source": [
    "## SYN\n",
    "list_syn <- read.table(\"ADHD_15genes_lcr_filter_rows_locus_allele_vep_annot_mpc_SYN_canonical.txt\", header=F)\n",
    "nrow(list_syn)"
   ]
  },
  {
   "cell_type": "code",
   "execution_count": null,
   "metadata": {},
   "outputs": [],
   "source": [
    "names(list_syn) <- c(\"chr\", \"pos\", \"ref\", \"alt\", \"Uploaded_variation\", \"gene\", \"consequence\")\n",
    "list_syn <- list_syn %>%\n",
    "  unite(\"variant\", chr, pos, ref, alt, sep = \"_\", remove = FALSE)"
   ]
  },
  {
   "cell_type": "code",
   "execution_count": null,
   "metadata": {},
   "outputs": [],
   "source": [
    "data_syn <- data_rare[which(data_rare$variant %in% list_syn$variant),]\n",
    "nrow(data_syn)"
   ]
  },
  {
   "cell_type": "code",
   "execution_count": null,
   "metadata": {},
   "outputs": [],
   "source": [
    "data_syn_gene <- data_syn %>%\n",
    "  group_by(Gene) %>%\n",
    "  summarise(\n",
    "    Alt_ADHD_NFE_syn = sum(Alt_ADHD_NFE, na.rm = TRUE),\n",
    "    Alt_ADHD_AFR_syn = sum(Alt_ADHD_AFR, na.rm = TRUE),\n",
    "    Alt_ADHD_AMR_syn = sum(Alt_ADHD_AMR, na.rm = TRUE),\n",
    "    AC_nfe_control_syn = sum(Alt_allofus_NFE, AC_nfe, na.rm = TRUE),\n",
    "    AC_afr_control_syn = sum(Alt_allofus_AFR, AC_afr, na.rm = TRUE),\n",
    "    AC_amr_control_syn = sum(Alt_allofus_AMR, AC_amr, na.rm = TRUE),\n",
    "    Alt_allofus_NFE_syn = sum(Alt_allofus_NFE, na.rm = TRUE),\n",
    "    Alt_allofus_AFR_syn = sum(Alt_allofus_AFR, na.rm = TRUE),\n",
    "    Alt_allofus_AMR_syn = sum(Alt_allofus_AMR, na.rm = TRUE),\n",
    "    AC_nfe_syn = sum(AC_nfe, na.rm = TRUE),\n",
    "    AC_afr_syn = sum(AC_afr, na.rm = TRUE),\n",
    "    AC_amr_syn = sum(AC_amr, na.rm = TRUE) \n",
    "  )\n",
    "\n",
    "head(data_syn_gene)"
   ]
  },
  {
   "cell_type": "code",
   "execution_count": null,
   "metadata": {},
   "outputs": [],
   "source": [
    "data_syn_gene <- as.data.table(data_syn_gene)"
   ]
  },
  {
   "cell_type": "code",
   "execution_count": null,
   "metadata": {},
   "outputs": [],
   "source": []
  },
  {
   "cell_type": "code",
   "execution_count": null,
   "metadata": {},
   "outputs": [],
   "source": [
    "## PTV\n",
    "list_ptv <- read.table(\"ADHD_15genes_lcr_filter_rows_locus_allele_vep_annot_mpc_ptv_lof_canonical.txt\", header=F)\n",
    "nrow(list_ptv)"
   ]
  },
  {
   "cell_type": "code",
   "execution_count": null,
   "metadata": {},
   "outputs": [],
   "source": [
    "names(list_ptv) <- c(\"chr\", \"pos\", \"ref\", \"alt\", \"Uploaded_variation\", \"gene\", \"consequence\")\n",
    "list_ptv <- list_ptv %>%\n",
    "  unite(\"variant\", chr, pos, ref, alt, sep = \"_\", remove = FALSE)"
   ]
  },
  {
   "cell_type": "code",
   "execution_count": null,
   "metadata": {},
   "outputs": [],
   "source": [
    "data_ptv <- data_rare[which(data_rare$variant %in% list_ptv$variant),]\n",
    "nrow(data_ptv)"
   ]
  },
  {
   "cell_type": "code",
   "execution_count": null,
   "metadata": {},
   "outputs": [],
   "source": [
    "data_ptv_gene <- data_ptv %>%\n",
    "  group_by(Gene) %>%\n",
    "  summarise(\n",
    "    Alt_ADHD_NFE_ptv = sum(Alt_ADHD_NFE, na.rm = TRUE),\n",
    "    Alt_ADHD_AFR_ptv = sum(Alt_ADHD_AFR, na.rm = TRUE),\n",
    "    Alt_ADHD_AMR_ptv = sum(Alt_ADHD_AMR, na.rm = TRUE),\n",
    "    AC_nfe_control_ptv = sum(Alt_allofus_NFE, AC_nfe, na.rm = TRUE),\n",
    "    AC_afr_control_ptv = sum(Alt_allofus_AFR, AC_afr, na.rm = TRUE),\n",
    "    AC_amr_control_ptv = sum(Alt_allofus_AMR, AC_amr, na.rm = TRUE),\n",
    "    Alt_allofus_NFE_ptv = sum(Alt_allofus_NFE, na.rm = TRUE),\n",
    "    Alt_allofus_AFR_ptv = sum(Alt_allofus_AFR, na.rm = TRUE),\n",
    "    Alt_allofus_AMR_ptv = sum(Alt_allofus_AMR, na.rm = TRUE),\n",
    "    AC_nfe_ptv = sum(AC_nfe, na.rm = TRUE),\n",
    "    AC_afr_ptv = sum(AC_afr, na.rm = TRUE),\n",
    "    AC_amr_ptv = sum(AC_amr, na.rm = TRUE) \n",
    "  )\n",
    "\n",
    "head(data_ptv_gene)"
   ]
  },
  {
   "cell_type": "code",
   "execution_count": null,
   "metadata": {},
   "outputs": [],
   "source": [
    "data_ptv_gene <- as.data.table(data_ptv_gene)"
   ]
  },
  {
   "cell_type": "code",
   "execution_count": null,
   "metadata": {},
   "outputs": [],
   "source": []
  },
  {
   "cell_type": "code",
   "execution_count": null,
   "metadata": {},
   "outputs": [],
   "source": [
    "## misB\n",
    "list_misb <- read.table(\"ADHD_15genes_lcr_filter_rows_locus_allele_vep_annot_mpc_misB_canonical.txt\", header=F)\n",
    "nrow(list_misb)"
   ]
  },
  {
   "cell_type": "code",
   "execution_count": null,
   "metadata": {},
   "outputs": [],
   "source": [
    "names(list_misb) <- c(\"chr\", \"pos\", \"ref\", \"alt\", \"Uploaded_variation\", \"gene\", \"consequence\")\n",
    "list_misb <- list_misb %>%\n",
    "  unite(\"variant\", chr, pos, ref, alt, sep = \"_\", remove = FALSE)"
   ]
  },
  {
   "cell_type": "code",
   "execution_count": null,
   "metadata": {},
   "outputs": [],
   "source": [
    "data_misb <- data_rare[which(data_rare$variant %in% list_misb$variant),]\n",
    "nrow(data_misb)"
   ]
  },
  {
   "cell_type": "code",
   "execution_count": null,
   "metadata": {},
   "outputs": [],
   "source": [
    "data_misb_gene <- data_misb %>%\n",
    "  group_by(Gene) %>%\n",
    "  summarise(\n",
    "    Alt_ADHD_NFE_misb = sum(Alt_ADHD_NFE, na.rm = TRUE),\n",
    "    Alt_ADHD_AFR_misb = sum(Alt_ADHD_AFR, na.rm = TRUE),\n",
    "    Alt_ADHD_AMR_misb = sum(Alt_ADHD_AMR, na.rm = TRUE),\n",
    "    AC_nfe_control_misb = sum(Alt_allofus_NFE, AC_nfe, na.rm = TRUE),\n",
    "    AC_afr_control_misb = sum(Alt_allofus_AFR, AC_afr, na.rm = TRUE),\n",
    "    AC_amr_control_misb = sum(Alt_allofus_AMR, AC_amr, na.rm = TRUE),\n",
    "    Alt_allofus_NFE_misb = sum(Alt_allofus_NFE, na.rm = TRUE),\n",
    "    Alt_allofus_AFR_misb = sum(Alt_allofus_AFR, na.rm = TRUE),\n",
    "    Alt_allofus_AMR_misb = sum(Alt_allofus_AMR, na.rm = TRUE),\n",
    "    AC_nfe_misb = sum(AC_nfe, na.rm = TRUE),\n",
    "    AC_afr_misb = sum(AC_afr, na.rm = TRUE),\n",
    "    AC_amr_misb = sum(AC_amr, na.rm = TRUE) \n",
    "  )\n",
    "\n",
    "head(data_misb_gene)"
   ]
  },
  {
   "cell_type": "code",
   "execution_count": null,
   "metadata": {},
   "outputs": [],
   "source": [
    "data_misb_gene <- as.data.table(data_misb_gene)"
   ]
  },
  {
   "cell_type": "code",
   "execution_count": null,
   "metadata": {},
   "outputs": [],
   "source": []
  },
  {
   "cell_type": "code",
   "execution_count": null,
   "metadata": {},
   "outputs": [],
   "source": [
    "## misA\n",
    "list_misa <- read.table(\"ADHD_15genes_lcr_filter_rows_locus_allele_vep_annot_mpc_misA_canonical.txt\", header=F)\n",
    "nrow(list_misa)"
   ]
  },
  {
   "cell_type": "code",
   "execution_count": null,
   "metadata": {},
   "outputs": [],
   "source": [
    "names(list_misa) <- c(\"chr\", \"pos\", \"ref\", \"alt\", \"Uploaded_variation\", \"gene\", \"consequence\")\n",
    "list_misa <- list_misa %>%\n",
    "  unite(\"variant\", chr, pos, ref, alt, sep = \"_\", remove = FALSE)"
   ]
  },
  {
   "cell_type": "code",
   "execution_count": null,
   "metadata": {},
   "outputs": [],
   "source": [
    "data_misa <- data_rare[which(data_rare$variant %in% list_misa$variant),]\n",
    "nrow(data_misa)"
   ]
  },
  {
   "cell_type": "code",
   "execution_count": null,
   "metadata": {},
   "outputs": [],
   "source": [
    "data_misa_gene <- data_misa %>%\n",
    "  group_by(Gene) %>%\n",
    "  summarise(\n",
    "    Alt_ADHD_NFE_misa = sum(Alt_ADHD_NFE, na.rm = TRUE),\n",
    "    Alt_ADHD_AFR_misa = sum(Alt_ADHD_AFR, na.rm = TRUE),\n",
    "    Alt_ADHD_AMR_misa = sum(Alt_ADHD_AMR, na.rm = TRUE),\n",
    "    AC_nfe_control_misa = sum(Alt_allofus_NFE, AC_nfe, na.rm = TRUE),\n",
    "    AC_afr_control_misa = sum(Alt_allofus_AFR, AC_afr, na.rm = TRUE),\n",
    "    AC_amr_control_misa = sum(Alt_allofus_AMR, AC_amr, na.rm = TRUE),\n",
    "    Alt_allofus_NFE_misa = sum(Alt_allofus_NFE, na.rm = TRUE),\n",
    "    Alt_allofus_AFR_misa = sum(Alt_allofus_AFR, na.rm = TRUE),\n",
    "    Alt_allofus_AMR_misa = sum(Alt_allofus_AMR, na.rm = TRUE),\n",
    "    AC_nfe_misa = sum(AC_nfe, na.rm = TRUE),\n",
    "    AC_afr_misa = sum(AC_afr, na.rm = TRUE),\n",
    "    AC_amr_misa = sum(AC_amr, na.rm = TRUE) \n",
    "  )\n",
    "\n",
    "head(data_misa_gene)"
   ]
  },
  {
   "cell_type": "code",
   "execution_count": null,
   "metadata": {},
   "outputs": [],
   "source": [
    "data_misa_gene <- as.data.table(data_misa_gene)"
   ]
  },
  {
   "cell_type": "code",
   "execution_count": null,
   "metadata": {},
   "outputs": [],
   "source": []
  },
  {
   "cell_type": "code",
   "execution_count": null,
   "metadata": {},
   "outputs": [],
   "source": []
  },
  {
   "cell_type": "code",
   "execution_count": null,
   "metadata": {},
   "outputs": [],
   "source": [
    "### ADHD cases\n",
    "adhd_case_eur_n = 3756\n",
    "adhd_case_amr_n = 518\n",
    "adhd_case_afr_n = 464\n",
    "\n",
    "\n",
    "### All of Us controls without ADHD\n",
    "allofus_eur_n = 129532\n",
    "allofus_amr_n = 44329 \n",
    "allofus_afr_n = 47631 \n",
    "\n",
    "### gnomad\n",
    "gnomad_eur_n = 622057\n",
    "gnomad_amr_n = 30019\n",
    "gnomad_afr_n = 37545\n",
    "\n",
    "\n",
    "control_eur_n = allofus_eur_n + gnomad_eur_n\n",
    "control_amr_n = allofus_amr_n + gnomad_amr_n\n",
    "control_afr_n = allofus_afr_n + gnomad_afr_n\n"
   ]
  },
  {
   "cell_type": "code",
   "execution_count": null,
   "metadata": {},
   "outputs": [],
   "source": []
  },
  {
   "cell_type": "code",
   "execution_count": null,
   "metadata": {},
   "outputs": [],
   "source": [
    "## AllofUs + gnomad - SYN\n",
    "# Create a new column for Fisher's exact p-value\n",
    "data_syn_gene$fisher_nfe_afr_syn <- apply(data_syn_gene, 1, function(row) {\n",
    "  # Create a 2x2 contingency table\n",
    "  contingency_table <- matrix(c(as.numeric(row[\"AC_afr_control_syn\"]), \n",
    "                                control_afr_n-as.numeric(row[\"AC_afr_control_syn\"]),\n",
    "                                as.numeric(row[\"AC_nfe_control_syn\"]),\n",
    "                                control_eur_n-as.numeric(row[\"AC_nfe_control_syn\"])),\n",
    "                              nrow = 2)\n",
    "  # Calculate Fisher's exact test\n",
    "  fisher_test <- fisher.test(contingency_table)\n",
    "  # Return the p-value\n",
    "  return(fisher_test$p.value)\n",
    "})"
   ]
  },
  {
   "cell_type": "code",
   "execution_count": null,
   "metadata": {},
   "outputs": [],
   "source": [
    "write.table(data_syn_gene, \"ADHD_15genes_syn_comparison_EUR_AFR.txt\", col.names=T, row.names=F, sep=\"\\t\", quote=F)"
   ]
  },
  {
   "cell_type": "code",
   "execution_count": null,
   "metadata": {},
   "outputs": [],
   "source": []
  },
  {
   "cell_type": "code",
   "execution_count": null,
   "metadata": {},
   "outputs": [],
   "source": [
    "## AllofUs + gnomad - PTV\n",
    "# Create a new column for Fisher's exact p-value\n",
    "data_ptv_gene$fisher_nfe_afr_ptv <- apply(data_ptv_gene, 1, function(row) {\n",
    "  # Create a 2x2 contingency table\n",
    "  contingency_table <- matrix(c(as.numeric(row[\"AC_afr_control_ptv\"]), \n",
    "                                control_afr_n-as.numeric(row[\"AC_afr_control_ptv\"]),\n",
    "                                as.numeric(row[\"AC_nfe_control_ptv\"]),\n",
    "                                control_eur_n-as.numeric(row[\"AC_nfe_control_ptv\"])),\n",
    "                              nrow = 2)\n",
    "  # Calculate Fisher's exact test\n",
    "  fisher_test <- fisher.test(contingency_table)\n",
    "  # Return the p-value\n",
    "  return(fisher_test$p.value)\n",
    "})\n",
    "\n"
   ]
  },
  {
   "cell_type": "code",
   "execution_count": null,
   "metadata": {},
   "outputs": [],
   "source": [
    "write.table(data_ptv_gene, \"ADHD_15genes_ptv_comparison_EUR_AFR.txt\", col.names=T, row.names=F, sep=\"\\t\", quote=F)"
   ]
  },
  {
   "cell_type": "code",
   "execution_count": null,
   "metadata": {},
   "outputs": [],
   "source": []
  },
  {
   "cell_type": "code",
   "execution_count": null,
   "metadata": {},
   "outputs": [],
   "source": [
    "## AllofUs + gnomad - misb\n",
    "# Create a new column for Fisher's exact p-value\n",
    "data_misb_gene$fisher_nfe_afr_misb <- apply(data_misb_gene, 1, function(row) {\n",
    "  # Create a 2x2 contingency table\n",
    "  contingency_table <- matrix(c(as.numeric(row[\"AC_afr_control_misb\"]), \n",
    "                                control_afr_n-as.numeric(row[\"AC_afr_control_misb\"]),\n",
    "                                as.numeric(row[\"AC_nfe_control_misb\"]),\n",
    "                                control_eur_n-as.numeric(row[\"AC_nfe_control_misb\"])),\n",
    "                              nrow = 2)\n",
    "  # Calculate Fisher's exact test\n",
    "  fisher_test <- fisher.test(contingency_table)\n",
    "  # Return the p-value\n",
    "  return(fisher_test$p.value)\n",
    "})\n",
    "\n"
   ]
  },
  {
   "cell_type": "code",
   "execution_count": null,
   "metadata": {},
   "outputs": [],
   "source": [
    "write.table(data_misb_gene, \"ADHD_15genes_misB_comparison_EUR_AFR.txt\", col.names=T, row.names=F, sep=\"\\t\", quote=F)"
   ]
  },
  {
   "cell_type": "code",
   "execution_count": null,
   "metadata": {},
   "outputs": [],
   "source": []
  },
  {
   "cell_type": "code",
   "execution_count": null,
   "metadata": {},
   "outputs": [],
   "source": [
    "## AllofUs + gnomad - misa\n",
    "# Create a new column for Fisher's exact p-value\n",
    "data_misa_gene$fisher_nfe_afr_misa <- apply(data_misa_gene, 1, function(row) {\n",
    "  # Create a 2x2 contingency table\n",
    "  contingency_table <- matrix(c(as.numeric(row[\"AC_afr_control_misa\"]), \n",
    "                                control_afr_n-as.numeric(row[\"AC_afr_control_misa\"]),\n",
    "                                as.numeric(row[\"AC_nfe_control_misa\"]),\n",
    "                                control_eur_n-as.numeric(row[\"AC_nfe_control_misa\"])),\n",
    "                              nrow = 2)\n",
    "  # Calculate Fisher's exact test\n",
    "  fisher_test <- fisher.test(contingency_table)\n",
    "  # Return the p-value\n",
    "  return(fisher_test$p.value)\n",
    "})\n",
    "\n"
   ]
  },
  {
   "cell_type": "code",
   "execution_count": null,
   "metadata": {},
   "outputs": [],
   "source": [
    "write.table(data_misa_gene, \"ADHD_15genes_misA_comparison_EUR_AFR.txt\", col.names=T, row.names=F, sep=\"\\t\", quote=F)"
   ]
  },
  {
   "cell_type": "code",
   "execution_count": null,
   "metadata": {},
   "outputs": [],
   "source": []
  },
  {
   "cell_type": "code",
   "execution_count": null,
   "metadata": {},
   "outputs": [],
   "source": [
    "## PTV+misB+misA"
   ]
  },
  {
   "cell_type": "code",
   "execution_count": null,
   "metadata": {},
   "outputs": [],
   "source": [
    "data_gene_ptv_syn <- merge(data_syn_gene, data_ptv_gene, by=\"Gene\", all.x=TRUE)\n",
    "data_gene_ptv_syn_misb <- merge(data_gene_ptv_syn, data_misb_gene, by=\"Gene\", all.x=TRUE)\n",
    "data_gene_total <- merge(data_gene_ptv_syn_misb, data_misa_gene, by=\"Gene\", all.x=TRUE)\n",
    "data_gene_total[is.na(data_gene_total)] <- 0\n",
    "head(data_gene_total)"
   ]
  },
  {
   "cell_type": "code",
   "execution_count": null,
   "metadata": {},
   "outputs": [],
   "source": [
    "data_gene_total_merge <- data_gene_total %>%\n",
    "  group_by(Gene) %>%\n",
    "  summarise(\n",
    "    Alt_ADHD_NFE_merge = sum(Alt_ADHD_NFE_ptv, Alt_ADHD_NFE_misb, Alt_ADHD_NFE_misa, na.rm = TRUE),\n",
    "    Alt_ADHD_AFR_merge = sum(Alt_ADHD_AFR_ptv, Alt_ADHD_AFR_misb, Alt_ADHD_AFR_misa, na.rm = TRUE),\n",
    "    Alt_ADHD_AMR_merge = sum(Alt_ADHD_AMR_ptv, Alt_ADHD_AMR_misb, Alt_ADHD_AMR_misa, na.rm = TRUE),\n",
    "    AC_nfe_control_merge = sum(Alt_allofus_NFE_ptv, Alt_allofus_NFE_misb, Alt_allofus_NFE_misa, AC_nfe_ptv, AC_nfe_misb, AC_nfe_misa, na.rm = TRUE),\n",
    "    AC_afr_control_merge = sum(Alt_allofus_AFR_ptv, Alt_allofus_AFR_misb, Alt_allofus_AFR_misa, AC_afr_ptv, AC_afr_misb, AC_afr_misa, na.rm = TRUE),\n",
    "    AC_amr_control_merge = sum(Alt_allofus_AMR_ptv, Alt_allofus_AMR_misb, Alt_allofus_AMR_misa, AC_amr_ptv, AC_amr_misb, AC_amr_misa, na.rm = TRUE),\n",
    "    Alt_allofus_NFE_merge = sum(Alt_allofus_NFE_ptv, Alt_allofus_NFE_misb, Alt_allofus_NFE_misa, na.rm = TRUE),\n",
    "    Alt_allofus_AFR_merge = sum(Alt_allofus_AFR_ptv, Alt_allofus_AFR_misb, Alt_allofus_AFR_misa, na.rm = TRUE),\n",
    "    Alt_allofus_AMR_merge = sum(Alt_allofus_AMR_ptv, Alt_allofus_AMR_misb, Alt_allofus_AMR_misa, na.rm = TRUE),\n",
    "    AC_nfe_merge = sum(AC_nfe_ptv, AC_nfe_misb, AC_nfe_misa, na.rm = TRUE),\n",
    "    AC_afr_merge = sum(AC_afr_ptv, AC_afr_misb, AC_afr_misa, na.rm = TRUE),\n",
    "    AC_amr_merge = sum(AC_amr_ptv, AC_amr_misb, AC_amr_misa, na.rm = TRUE) \n",
    "  )\n",
    "\n",
    "head(data_gene_total_merge)"
   ]
  },
  {
   "cell_type": "code",
   "execution_count": null,
   "metadata": {},
   "outputs": [],
   "source": [
    "merge_final <- merge(data_gene_total, data_gene_total_merge, by=\"Gene\")"
   ]
  },
  {
   "cell_type": "code",
   "execution_count": null,
   "metadata": {},
   "outputs": [],
   "source": [
    "# Create a new column for Fisher's exact p-value\n",
    "merge_final$fisher_nfe <- apply(merge_final, 1, function(row) {\n",
    "  # Create a 2x2 contingency table\n",
    "  contingency_table <- matrix(c(as.numeric(row[\"Alt_ADHD_NFE_merge\"]), \n",
    "                                adhd_case_eur_n - as.numeric(row[\"Alt_ADHD_NFE_merge\"]),\n",
    "                                as.numeric(row[\"AC_nfe_control_merge\"]),\n",
    "                                control_eur_n - as.numeric(row[\"AC_nfe_control_merge\"])),\n",
    "                              nrow = 2)\n",
    "  # Calculate Fisher's exact test\n",
    "  fisher_test <- fisher.test(contingency_table)\n",
    "  # Return the p-value\n",
    "  return(fisher_test$p.value)\n",
    "})\n"
   ]
  },
  {
   "cell_type": "code",
   "execution_count": null,
   "metadata": {},
   "outputs": [],
   "source": [
    "# Create a new column for Fisher's exact p-value\n",
    "merge_final$fisher_afr <- apply(merge_final, 1, function(row) {\n",
    "  # Create a 2x2 contingency table\n",
    "  contingency_table <- matrix(c(as.numeric(row[\"Alt_ADHD_AFR_merge\"]), \n",
    "                                adhd_case_afr_n - as.numeric(row[\"Alt_ADHD_AFR_merge\"]),\n",
    "                                as.numeric(row[\"AC_afr_control_merge\"]),\n",
    "                                control_afr_n - as.numeric(row[\"AC_afr_control_merge\"])),\n",
    "                              nrow = 2)\n",
    "  # Calculate Fisher's exact test\n",
    "  fisher_test <- fisher.test(contingency_table)\n",
    "  # Return the p-value\n",
    "  return(fisher_test$p.value)\n",
    "})"
   ]
  },
  {
   "cell_type": "code",
   "execution_count": null,
   "metadata": {},
   "outputs": [],
   "source": [
    "# Create a new column for Fisher's exact p-value\n",
    "merge_final$fisher_amr <- apply(merge_final, 1, function(row) {\n",
    "  # Create a 2x2 contingency table\n",
    "  contingency_table <- matrix(c(as.numeric(row[\"Alt_ADHD_AMR_merge\"]), \n",
    "                                adhd_case_amr_n - as.numeric(row[\"Alt_ADHD_AMR_merge\"]),\n",
    "                                as.numeric(row[\"AC_amr_control_merge\"]),\n",
    "                                control_amr_n - as.numeric(row[\"AC_amr_control_merge\"])),\n",
    "                              nrow = 2)\n",
    "  # Calculate Fisher's exact test\n",
    "  fisher_test <- fisher.test(contingency_table)\n",
    "  # Return the p-value\n",
    "  return(fisher_test$p.value)\n",
    "})\n"
   ]
  },
  {
   "cell_type": "code",
   "execution_count": null,
   "metadata": {},
   "outputs": [],
   "source": []
  },
  {
   "cell_type": "code",
   "execution_count": null,
   "metadata": {},
   "outputs": [],
   "source": []
  },
  {
   "cell_type": "code",
   "execution_count": null,
   "metadata": {},
   "outputs": [],
   "source": [
    "#install.packages(\"DescTools\")\n",
    "library(DescTools)"
   ]
  },
  {
   "cell_type": "code",
   "execution_count": null,
   "metadata": {},
   "outputs": [],
   "source": [
    "# Create a new column for Fisher's exact p-value\n",
    "merge_final$fisher_nfe_afr_control <- apply(merge_final, 1, function(row) {\n",
    "  # Create a 2x2 contingency table\n",
    "  contingency_table <- matrix(c(as.numeric(row[\"AC_nfe_control_merge\"]), \n",
    "                                control_eur_n - as.numeric(row[\"AC_nfe_control_merge\"]),\n",
    "                                as.numeric(row[\"AC_afr_control_merge\"]),\n",
    "                                control_afr_n - as.numeric(row[\"AC_afr_control_merge\"])),\n",
    "                              nrow = 2)\n",
    "  # Calculate Fisher's exact test\n",
    "  fisher_test <- fisher.test(contingency_table)\n",
    "  # Return the p-value\n",
    "  return(fisher_test$p.value)\n",
    "})\n",
    "\n",
    "merge_final$fisher_nfe_amr_control <- apply(merge_final, 1, function(row) {\n",
    "  # Create a 2x2 contingency table\n",
    "  contingency_table <- matrix(c(as.numeric(row[\"AC_nfe_control_merge\"]), \n",
    "                                control_eur_n - as.numeric(row[\"AC_nfe_control_merge\"]),\n",
    "                                as.numeric(row[\"AC_amr_control_merge\"]),\n",
    "                                control_amr_n - as.numeric(row[\"AC_amr_control_merge\"])),\n",
    "                              nrow = 2)\n",
    "  # Calculate Fisher's exact test\n",
    "  fisher_test <- fisher.test(contingency_table)\n",
    "  # Return the p-value\n",
    "  return(fisher_test$p.value)\n",
    "})\n",
    "\n",
    "\n",
    "merge_final$fisher_afr_amr_control <- apply(merge_final, 1, function(row) {\n",
    "  # Create a 2x2 contingency table\n",
    "  contingency_table <- matrix(c(as.numeric(row[\"AC_afr_control_merge\"]), \n",
    "                                control_afr_n - as.numeric(row[\"AC_afr_control_merge\"]),\n",
    "                                as.numeric(row[\"AC_amr_control_merge\"]),\n",
    "                                control_amr_n - as.numeric(row[\"AC_amr_control_merge\"])),\n",
    "                              nrow = 2)\n",
    "  # Calculate Fisher's exact test\n",
    "  fisher_test <- fisher.test(contingency_table)\n",
    "  # Return the p-value\n",
    "  return(fisher_test$p.value)\n",
    "})"
   ]
  },
  {
   "cell_type": "code",
   "execution_count": null,
   "metadata": {},
   "outputs": [],
   "source": [
    "\n",
    "merge_final$bd_nfe_afr <- apply(merge_final, 1, function(row) {\n",
    "  tryCatch({\n",
    "    # Validate and sanitize input\n",
    "    contingency_values <- c(\n",
    "      as.numeric(row[\"Alt_ADHD_NFE_merge\"]),\n",
    "      adhd_case_eur_n - as.numeric(row[\"Alt_ADHD_NFE_merge\"]),\n",
    "      as.numeric(row[\"AC_nfe_control_merge\"]),\n",
    "      control_eur_n - as.numeric(row[\"AC_nfe_control_merge\"]),\n",
    "      as.numeric(row[\"Alt_ADHD_AFR_merge\"]),\n",
    "      adhd_case_afr_n - as.numeric(row[\"Alt_ADHD_AFR_merge\"]),\n",
    "      as.numeric(row[\"AC_afr_control_merge\"]),\n",
    "      control_afr_n - as.numeric(row[\"AC_afr_control_merge\"])\n",
    "    )\n",
    "    \n",
    "    # Replace NAs with 0 for safety\n",
    "    contingency_values[is.na(contingency_values)] <- 0\n",
    "    \n",
    "    # Construct 2x2x2 contingency table\n",
    "    contingency_table <- array(contingency_values, dim = c(2, 2, 2))\n",
    "    \n",
    "    # Check dimensions\n",
    "    if (any(dim(contingency_table) != c(2, 2, 2))) stop(\"Incorrect matrix dimensions.\")\n",
    "    \n",
    "    # Perform Mantel-Haenszel test\n",
    "    bd_test <- BreslowDayTest(contingency_table)\n",
    "    return(bd_test$p.value)\n",
    "  }, error = function(e) {\n",
    "    # Log errors and return NA for failed rows\n",
    "    message(\"Error in cmh_nfe_afr: \", e$message)\n",
    "    return(NA)\n",
    "  })\n",
    "})\n",
    "\n",
    "merge_final$bd_nfe_amr <- apply(merge_final, 1, function(row) {\n",
    "  tryCatch({\n",
    "    contingency_values <- c(\n",
    "      as.numeric(row[\"Alt_ADHD_NFE_merge\"]),\n",
    "      adhd_case_eur_n - as.numeric(row[\"Alt_ADHD_NFE_merge\"]),\n",
    "      as.numeric(row[\"AC_nfe_control_merge\"]),\n",
    "      control_eur_n - as.numeric(row[\"AC_nfe_control_merge\"]),\n",
    "      as.numeric(row[\"Alt_ADHD_AMR_merge\"]),\n",
    "      adhd_case_amr_n - as.numeric(row[\"Alt_ADHD_AMR_merge\"]),\n",
    "      as.numeric(row[\"AC_amr_control_merge\"]),\n",
    "      control_amr_n - as.numeric(row[\"AC_amr_control_merge\"])\n",
    "    )\n",
    "    contingency_values[is.na(contingency_values)] <- 0\n",
    "    contingency_table <- array(contingency_values, dim = c(2, 2, 2))\n",
    "    \n",
    "    if (any(dim(contingency_table) != c(2, 2, 2))) stop(\"Incorrect matrix dimensions.\")\n",
    "    \n",
    "    bd_test <- BreslowDayTest(contingency_table)\n",
    "    return(bd_test$p.value)\n",
    "  }, error = function(e) {\n",
    "    message(\"Error in cmh_nfe_amr: \", e$message)\n",
    "    return(NA)\n",
    "  })\n",
    "})\n",
    "\n",
    "merge_final$bd_afr_amr <- apply(merge_final, 1, function(row) {\n",
    "  tryCatch({\n",
    "    contingency_values <- c(\n",
    "      as.numeric(row[\"Alt_ADHD_AFR_merge\"]),\n",
    "      adhd_case_afr_n - as.numeric(row[\"Alt_ADHD_AFR_merge\"]),\n",
    "      as.numeric(row[\"AC_afr_control_merge\"]),\n",
    "      control_afr_n - as.numeric(row[\"AC_afr_control_merge\"]),\n",
    "      as.numeric(row[\"Alt_ADHD_AMR_merge\"]),\n",
    "      adhd_case_amr_n - as.numeric(row[\"Alt_ADHD_AMR_merge\"]),\n",
    "      as.numeric(row[\"AC_amr_control_merge\"]),\n",
    "      control_amr_n - as.numeric(row[\"AC_amr_control_merge\"])\n",
    "    )\n",
    "    contingency_values[is.na(contingency_values)] <- 0\n",
    "    contingency_table <- array(contingency_values, dim = c(2, 2, 2))\n",
    "    \n",
    "    if (any(dim(contingency_table) != c(2, 2, 2))) stop(\"Incorrect matrix dimensions.\")\n",
    "    \n",
    "    bd_test <- BreslowDayTest(contingency_table)\n",
    "    return(bd_test$p.value)\n",
    "  }, error = function(e) {\n",
    "    message(\"Error in cmh_afr_amr: \", e$message)\n",
    "    return(NA)\n",
    "  })\n",
    "})\n"
   ]
  },
  {
   "cell_type": "code",
   "execution_count": null,
   "metadata": {},
   "outputs": [],
   "source": []
  },
  {
   "cell_type": "code",
   "execution_count": null,
   "metadata": {},
   "outputs": [],
   "source": [
    "# Create a new column for Fisher's exact p-value\n",
    "merge_final$fisher_nfe_afr_control <- apply(merge_final, 1, function(row) {\n",
    "  # Create a 2x2 contingency table\n",
    "  contingency_table <- matrix(c(as.numeric(row[\"AC_nfe_control_merge\"]), \n",
    "                                control_eur_n - as.numeric(row[\"AC_nfe_control_merge\"]),\n",
    "                                as.numeric(row[\"AC_afr_control_merge\"]),\n",
    "                                control_afr_n - as.numeric(row[\"AC_afr_control_merge\"])),\n",
    "                              nrow = 2)\n",
    "  # Calculate Fisher's exact test\n",
    "  fisher_test <- fisher.test(contingency_table)\n",
    "  # Return the p-value\n",
    "  return(fisher_test$p.value)\n",
    "})\n",
    "\n",
    "merge_final$fisher_nfe_amr_control <- apply(merge_final, 1, function(row) {\n",
    "  # Create a 2x2 contingency table\n",
    "  contingency_table <- matrix(c(as.numeric(row[\"AC_nfe_control_merge\"]), \n",
    "                                control_eur_n - as.numeric(row[\"AC_nfe_control_merge\"]),\n",
    "                                as.numeric(row[\"AC_amr_control_merge\"]),\n",
    "                                control_amr_n - as.numeric(row[\"AC_amr_control_merge\"])),\n",
    "                              nrow = 2)\n",
    "  # Calculate Fisher's exact test\n",
    "  fisher_test <- fisher.test(contingency_table)\n",
    "  # Return the p-value\n",
    "  return(fisher_test$p.value)\n",
    "})\n",
    "\n",
    "\n",
    "merge_final$fisher_afr_amr_control <- apply(merge_final, 1, function(row) {\n",
    "  # Create a 2x2 contingency table\n",
    "  contingency_table <- matrix(c(as.numeric(row[\"AC_afr_control_merge\"]), \n",
    "                                control_afr_n - as.numeric(row[\"AC_afr_control_merge\"]),\n",
    "                                as.numeric(row[\"AC_amr_control_merge\"]),\n",
    "                                control_amr_n - as.numeric(row[\"AC_amr_control_merge\"])),\n",
    "                              nrow = 2)\n",
    "  # Calculate Fisher's exact test\n",
    "  fisher_test <- fisher.test(contingency_table)\n",
    "  # Return the p-value\n",
    "  return(fisher_test$p.value)\n",
    "})"
   ]
  },
  {
   "cell_type": "code",
   "execution_count": null,
   "metadata": {},
   "outputs": [],
   "source": [
    "write.table(merge_final, \"ADHD_15genes_ptv+misB+misA_merged_comparison.txt\", col.names=T, row.names=F, sep=\"\\t\", quote=F)"
   ]
  },
  {
   "cell_type": "code",
   "execution_count": null,
   "metadata": {},
   "outputs": [],
   "source": []
  }
 ],
 "metadata": {
  "kernelspec": {
   "display_name": "R",
   "language": "R",
   "name": "ir"
  },
  "language_info": {
   "codemirror_mode": "r",
   "file_extension": ".r",
   "mimetype": "text/x-r-source",
   "name": "R",
   "pygments_lexer": "r",
   "version": "4.4.0"
  },
  "toc": {
   "base_numbering": 1,
   "nav_menu": {},
   "number_sections": true,
   "sideBar": true,
   "skip_h1_title": false,
   "title_cell": "Table of Contents",
   "title_sidebar": "Contents",
   "toc_cell": false,
   "toc_position": {},
   "toc_section_display": true,
   "toc_window_display": false
  }
 },
 "nbformat": 4,
 "nbformat_minor": 2
}
